{
  "nbformat": 4,
  "nbformat_minor": 0,
  "metadata": {
    "colab": {
      "provenance": [],
      "gpuType": "T4"
    },
    "kernelspec": {
      "name": "python3",
      "display_name": "Python 3"
    },
    "language_info": {
      "name": "python"
    },
    "accelerator": "GPU"
  },
  "cells": [
    {
      "cell_type": "code",
      "source": [
        "from google.colab import drive\n",
        "drive.mount('/content/drive/')"
      ],
      "metadata": {
        "colab": {
          "base_uri": "https://localhost:8080/"
        },
        "id": "zrFYH_njjfUl",
        "outputId": "676bd5de-46c7-4ef6-e140-c18e75b8b30e"
      },
      "execution_count": null,
      "outputs": [
        {
          "output_type": "stream",
          "name": "stdout",
          "text": [
            "Drive already mounted at /content/drive/; to attempt to forcibly remount, call drive.mount(\"/content/drive/\", force_remount=True).\n"
          ]
        }
      ]
    },
    {
      "cell_type": "code",
      "source": [
        "import tensorflow as tf\n",
        "\n",
        "h5_model_path = \"/content/drive/MyDrive/mnist_huruf/model_huruf_cnn.h5\"\n",
        "tflite_model_path = \"/content/drive/MyDrive/mnist_huruf/model_huruf_cnn.tflite\"\n",
        "\n",
        "model = tf.keras.models.load_model(h5_model_path)\n",
        "\n",
        "converter = tf.lite.TFLiteConverter.from_keras_model(model)\n",
        "tflite_model = converter.convert()\n",
        "\n",
        "with open(tflite_model_path, \"wb\") as f:\n",
        "    f.write(tflite_model)\n",
        "\n",
        "print(f\"Model TFLite telah disimpan di: {tflite_model_path}\")\n"
      ],
      "metadata": {
        "colab": {
          "base_uri": "https://localhost:8080/"
        },
        "id": "eDB_ySb9Qwwn",
        "outputId": "9a754e50-ff4c-4f32-b3d1-220f32ba67bd"
      },
      "execution_count": null,
      "outputs": [
        {
          "output_type": "stream",
          "name": "stderr",
          "text": [
            "WARNING:absl:Compiled the loaded model, but the compiled metrics have yet to be built. `model.compile_metrics` will be empty until you train or evaluate the model.\n"
          ]
        },
        {
          "output_type": "stream",
          "name": "stdout",
          "text": [
            "Saved artifact at '/tmp/tmp_jtdt_iy'. The following endpoints are available:\n",
            "\n",
            "* Endpoint 'serve'\n",
            "  args_0 (POSITIONAL_ONLY): TensorSpec(shape=(None, 28, 28, 1), dtype=tf.float32, name='input_layer')\n",
            "Output Type:\n",
            "  TensorSpec(shape=(None, 37), dtype=tf.float32, name=None)\n",
            "Captures:\n",
            "  139969498064928: TensorSpec(shape=(), dtype=tf.resource, name=None)\n",
            "  139969498064752: TensorSpec(shape=(), dtype=tf.resource, name=None)\n",
            "  139969496022736: TensorSpec(shape=(), dtype=tf.resource, name=None)\n",
            "  139969427839584: TensorSpec(shape=(), dtype=tf.resource, name=None)\n",
            "  139969427842576: TensorSpec(shape=(), dtype=tf.resource, name=None)\n",
            "  139969427843456: TensorSpec(shape=(), dtype=tf.resource, name=None)\n",
            "Model TFLite telah disimpan di: /content/drive/MyDrive/mnist_huruf/model_huruf_cnn.tflite\n"
          ]
        }
      ]
    },
    {
      "cell_type": "code",
      "source": [
        "import numpy as np\n",
        "import tensorflow as tf\n",
        "\n",
        "# Path ke model TFLite\n",
        "tflite_model_path = \"/content/drive/MyDrive/mnist_huruf/model_huruf_cnn.tflite\"\n",
        "\n",
        "# Buat model TFLite\n",
        "interpreter = tf.lite.Interpreter(model_path=tflite_model_path)\n",
        "interpreter.allocate_tensors()\n",
        "\n",
        "input_details = interpreter.get_input_details()\n",
        "output_details = interpreter.get_output_details()\n",
        "print(\"Input Details:\", input_details)\n",
        "print(\"Output Details:\", output_details)\n",
        "\n",
        "data_input = np.random.rand(1, 28, 28, 1).astype(np.float32)\n",
        "interpreter.set_tensor(input_details[0]['index'], data_input)\n",
        "interpreter.invoke()\n",
        "\n",
        "output_data = interpreter.get_tensor(output_details[0]['index'])\n",
        "\n",
        "print(\"Hasil Prediksi:\", output_data)\n",
        "\n",
        "predicted_class = np.argmax(output_data, axis=1)\n",
        "print(f\"Kelas yang diprediksi: {predicted_class}\")\n"
      ],
      "metadata": {
        "colab": {
          "base_uri": "https://localhost:8080/"
        },
        "id": "quIFddYzQDcM",
        "outputId": "9fb151ea-b899-44f8-9c10-d4ac0af03540"
      },
      "execution_count": null,
      "outputs": [
        {
          "output_type": "stream",
          "name": "stdout",
          "text": [
            "Input Details: [{'name': 'serving_default_input_layer:0', 'index': 0, 'shape': array([ 1, 28, 28,  1], dtype=int32), 'shape_signature': array([-1, 28, 28,  1], dtype=int32), 'dtype': <class 'numpy.float32'>, 'quantization': (0.0, 0), 'quantization_parameters': {'scales': array([], dtype=float32), 'zero_points': array([], dtype=int32), 'quantized_dimension': 0}, 'sparsity_parameters': {}}]\n",
            "Output Details: [{'name': 'StatefulPartitionedCall_1:0', 'index': 13, 'shape': array([ 1, 37], dtype=int32), 'shape_signature': array([-1, 37], dtype=int32), 'dtype': <class 'numpy.float32'>, 'quantization': (0.0, 0), 'quantization_parameters': {'scales': array([], dtype=float32), 'zero_points': array([], dtype=int32), 'quantized_dimension': 0}, 'sparsity_parameters': {}}]\n",
            "Hasil Prediksi: [[1.28605404e-15 4.29688357e-35 3.88401648e-19 1.42664325e-20\n",
            "  8.39011870e-24 1.09303770e-17 8.14090156e-21 4.36709973e-34\n",
            "  5.66377782e-13 4.25183698e-18 7.66885250e-07 9.76763487e-01\n",
            "  5.80138683e-24 7.29729663e-08 1.72949322e-14 3.75229931e-13\n",
            "  3.92583388e-09 7.85562072e-14 8.25611221e-22 1.03176750e-20\n",
            "  1.33466114e-13 2.62690497e-26 4.93644513e-13 5.49921491e-13\n",
            "  3.19299492e-17 5.44089643e-12 2.32356284e-02 3.97782696e-09\n",
            "  5.25375696e-13 3.43552468e-27 3.08544283e-18 1.60402989e-28\n",
            "  1.34774275e-14 6.53702759e-15 2.25961445e-19 2.43818691e-13\n",
            "  8.55899942e-15]]\n",
            "Kelas yang diprediksi: [11]\n"
          ]
        }
      ]
    }
  ]
}